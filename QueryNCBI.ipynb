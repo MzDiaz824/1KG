{
 "cells": [
  {
   "cell_type": "code",
   "execution_count": 1,
   "source": [
    "from Bio import Entrez, SeqIO\n",
    "Entrez.email = 'mdiaz67@gatech.edu'"
   ],
   "outputs": [],
   "metadata": {}
  },
  {
   "cell_type": "markdown",
   "source": [
    "## Chloroquine resistance transporter (CRT) gene in Plasmodium falciparum"
   ],
   "metadata": {}
  },
  {
   "cell_type": "markdown",
   "source": [
    "### Query NCBI database using BioPython and collect necessary records IDs for record retrieval. In this case more than 400 records downloaded."
   ],
   "metadata": {}
  },
  {
   "cell_type": "code",
   "execution_count": 3,
   "source": [
    "handle = Entrez.esearch(db='nucleotide', term='CRT[Gene Name] AND \"Plasmodium falciparum\"[Organism]')\n",
    "rec_list = Entrez.read(handle)\n",
    "if rec_list['RetMax'] < rec_list['Count']: #override max results returned of 20\n",
    "    handle = Entrez.esearch(db='nucleotide', term='CRT[Gene Name] AND \"Plasmodium falciparum\"[Organism]', retmax=rec_list['Count'])\n",
    "    rec_list = Entrez.read(handle)"
   ],
   "outputs": [],
   "metadata": {}
  },
  {
   "cell_type": "markdown",
   "source": [
    "### Download the matching nT sequences from GenBank. Conversion of the iterator to a list makes it easier to analyze multiple times."
   ],
   "metadata": {}
  },
  {
   "cell_type": "code",
   "execution_count": 6,
   "source": [
    "id_list = rec_list['IdList']\n",
    "hdl = Entrez.efetch(db='nucleotide', id=id_list, rettype='gb')\n",
    "recs = list(SeqIO.parse(hdl, 'gb')) #read and parse result as a list"
   ],
   "outputs": [],
   "metadata": {}
  },
  {
   "cell_type": "markdown",
   "source": [
    "### Concentrate on single record "
   ],
   "metadata": {}
  },
  {
   "cell_type": "code",
   "execution_count": 8,
   "source": [
    "for rec in recs:\n",
    "    if rec.name == 'KM288867':\n",
    "        break \n",
    "print(rec.name)\n",
    "print(rec.description)"
   ],
   "outputs": [
    {
     "output_type": "stream",
     "name": "stdout",
     "text": [
      "MW275057\n",
      "Plasmodium falciparum isolate OM-17-304 chloroquine resistance transporter (crt) gene, partial cds\n"
     ]
    }
   ],
   "metadata": {}
  },
  {
   "cell_type": "markdown",
   "source": [
    "### Variable of interest, CRT gene, is isolated. It can be examined further."
   ],
   "metadata": {}
  },
  {
   "cell_type": "code",
   "execution_count": 9,
   "source": [
    "for feature in rec.features: \n",
    "    if feature.type == 'gene':\n",
    "        print(feature.qualifiers['gene']) \n",
    "    elif feature.type == 'exon':\n",
    "        loc = feature.location\n",
    "        print(loc.start, loc.end, loc.strand) \n",
    "    else:\n",
    "        print('not processed:\\n%s' % feature)"
   ],
   "outputs": [
    {
     "output_type": "stream",
     "name": "stdout",
     "text": [
      "not processed:\n",
      "type: source\n",
      "location: [0:3096](+)\n",
      "qualifiers:\n",
      "    Key: collected_by, Value: ['AFRIMS']\n",
      "    Key: country, Value: ['Cambodia']\n",
      "    Key: db_xref, Value: ['taxon:5833']\n",
      "    Key: isolate, Value: ['OM-17-304']\n",
      "    Key: isolation_source, Value: ['leukocyte-depleted venous blood']\n",
      "    Key: lat_lon, Value: ['14.17 N 103.63 E']\n",
      "    Key: mol_type, Value: ['genomic DNA']\n",
      "    Key: organism, Value: ['Plasmodium falciparum']\n",
      "\n",
      "['crt']\n",
      "not processed:\n",
      "type: mRNA\n",
      "location: join{[<0:91](+), [268:537](+), [716:889](+), [1061:1194](+), [1347:1419](+), [1542:1618](+), [1714:1797](+), [1924:1975](+), [2112:2169](+), [2317:2410](+), [2603:2648](+), [2795:2850](+), [3019:>3096](+)}\n",
      "qualifiers:\n",
      "    Key: gene, Value: ['crt']\n",
      "    Key: product, Value: ['chloroquine resistance transporter']\n",
      "\n",
      "not processed:\n",
      "type: CDS\n",
      "location: join{[<0:91](+), [268:537](+), [716:889](+), [1061:1194](+), [1347:1419](+), [1542:1618](+), [1714:1797](+), [1924:1975](+), [2112:2169](+), [2317:2410](+), [2603:2648](+), [2795:2850](+), [3019:3096](+)}\n",
      "qualifiers:\n",
      "    Key: codon_start, Value: ['1']\n",
      "    Key: gene, Value: ['crt']\n",
      "    Key: product, Value: ['chloroquine resistance transporter']\n",
      "    Key: protein_id, Value: ['QWJ89320.1']\n",
      "    Key: translation, Value: ['MKFASKKNNQKNSSKNDERYRELDNLVQEGNGSRLGGGSCLGKCAHVFKLIFKEIKDNIFIYILSIIYLSVCVMNTIFAKRTLNKIGNYSFVTSETHNFICMIMFFIVYSLFGNKKGNSKERHRSFNLQFFAISMLDACSVILAFIGLTRTTGNIQSFVLQLSIPINMFFCFLILRYRYHLYNYLGAVIIVVTIALVEMKLSFETQEENSIIFNLVLISSLIPVCFSNMTREIVFKKYKIDILRLNAMVSFFQLFTSCLILPVYTLPFLKELHLPYNEIWTNIKNGFACLFLGRNTVVENCGLGMAKLCDDCDGAWKTFALFSFFSICDNLITSYIIDKFSTMTYTIVSCIQVPAIAIAYYFKFLAGDVVIEPRLLDFVTLFGYLFGSIIYRVGNIILERKKMRNEENEDSEGELTNVDSIITQ']\n",
      "\n"
     ]
    }
   ],
   "metadata": {}
  }
 ],
 "metadata": {
  "orig_nbformat": 4,
  "language_info": {
   "name": "python",
   "version": "3.7.4",
   "mimetype": "text/x-python",
   "codemirror_mode": {
    "name": "ipython",
    "version": 3
   },
   "pygments_lexer": "ipython3",
   "nbconvert_exporter": "python",
   "file_extension": ".py"
  },
  "kernelspec": {
   "name": "python3",
   "display_name": "Python 3.7.4 64-bit ('base': conda)"
  },
  "interpreter": {
   "hash": "dca0ade3e726a953b501b15e8e990130d2b7799f14cfd9f4271676035ebe5511"
  }
 },
 "nbformat": 4,
 "nbformat_minor": 2
}